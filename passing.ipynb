{
  "cells": [
    {
      "cell_type": "code",
      "execution_count": 1,
      "metadata": {
        "id": "pMrWuLJ3ARzS"
      },
      "outputs": [
        {
          "name": "stderr",
          "output_type": "stream",
          "text": [
            "c:\\Users\\levy\\miniconda3\\envs\\keras\\lib\\site-packages\\umap\\distances.py:1063: NumbaDeprecationWarning: \u001b[1mThe 'nopython' keyword argument was not supplied to the 'numba.jit' decorator. The implicit default value for this argument is currently False, but it will be changed to True in Numba 0.59.0. See https://numba.readthedocs.io/en/stable/reference/deprecation.html#deprecation-of-object-mode-fall-back-behaviour-when-using-jit for details.\u001b[0m\n",
            "  @numba.jit()\n",
            "c:\\Users\\levy\\miniconda3\\envs\\keras\\lib\\site-packages\\umap\\distances.py:1071: NumbaDeprecationWarning: \u001b[1mThe 'nopython' keyword argument was not supplied to the 'numba.jit' decorator. The implicit default value for this argument is currently False, but it will be changed to True in Numba 0.59.0. See https://numba.readthedocs.io/en/stable/reference/deprecation.html#deprecation-of-object-mode-fall-back-behaviour-when-using-jit for details.\u001b[0m\n",
            "  @numba.jit()\n",
            "c:\\Users\\levy\\miniconda3\\envs\\keras\\lib\\site-packages\\umap\\distances.py:1086: NumbaDeprecationWarning: \u001b[1mThe 'nopython' keyword argument was not supplied to the 'numba.jit' decorator. The implicit default value for this argument is currently False, but it will be changed to True in Numba 0.59.0. See https://numba.readthedocs.io/en/stable/reference/deprecation.html#deprecation-of-object-mode-fall-back-behaviour-when-using-jit for details.\u001b[0m\n",
            "  @numba.jit()\n",
            "c:\\Users\\levy\\miniconda3\\envs\\keras\\lib\\site-packages\\umap\\umap_.py:660: NumbaDeprecationWarning: \u001b[1mThe 'nopython' keyword argument was not supplied to the 'numba.jit' decorator. The implicit default value for this argument is currently False, but it will be changed to True in Numba 0.59.0. See https://numba.readthedocs.io/en/stable/reference/deprecation.html#deprecation-of-object-mode-fall-back-behaviour-when-using-jit for details.\u001b[0m\n",
            "  @numba.jit()\n"
          ]
        }
      ],
      "source": [
        "import random\n",
        "import matplotlib.pyplot as plt\n",
        "import numpy as np\n",
        "import umap\n",
        "from tensorflow.keras import backend as K\n",
        "from tensorflow.keras.datasets import mnist\n",
        "from tensorflow.keras.models import Model\n",
        "from tensorflow.keras.layers import *\n",
        "\n",
        "#import Lambda\n",
        "from tensorflow.keras.layers import Lambda\n",
        "\n",
        "import numpy as np\n",
        "import random\n",
        "import tensorflow as tf\n",
        "from tensorflow.keras.preprocessing.image import ImageDataGenerator,  load_img\n",
        "from tensorflow.keras.layers.experimental import preprocessing\n",
        "from tensorflow.keras.applications import EfficientNetB0\n",
        "from tensorflow.keras.models import Model\n",
        "from tensorflow.keras.layers import Input, GlobalAveragePooling2D, Dense\n",
        "from sklearn.model_selection import train_test_split\n",
        "\n",
        "from tensorflow.keras.layers import Conv2D, MaxPool2D, Flatten, Dense, Input, Lambda\n",
        "#import concatenate\n",
        "from tensorflow.keras.layers import Concatenate"
      ]
    },
    {
      "cell_type": "code",
      "execution_count": 2,
      "metadata": {
        "id": "Ho0uiDO_ATRG"
      },
      "outputs": [],
      "source": [
        "# load mnist dataset from keras\n",
        "\n",
        "(x_train, y_train), (x_test, y_test) = mnist.load_data()\n",
        "x_train = x_train.reshape(-1, 28, 28, 1).astype(\"float32\") / 255.0\n",
        "x_test = x_test.reshape(-1, 28, 28, 1).astype(\"float32\") / 255.0\n",
        "\n",
        "classes = [1, 2, 3, 4, 5, 6, 7, 8, 9, 0]"
      ]
    },
    {
      "cell_type": "code",
      "execution_count": 3,
      "metadata": {
        "id": "hR9eURg9Anpq"
      },
      "outputs": [],
      "source": [
        "# # # define triplet generator (entire batch)\n",
        "\n",
        "# def data_generator(batch_size=64):\n",
        "#     while True:\n",
        "#         a = []\n",
        "#         p = []\n",
        "#         n = []\n",
        "#         for _ in range(batch_size):\n",
        "#             # (28,28, 1) to (28, 28, 3) making 3 copies of the image\n",
        "#             x_test_rgb = tf.tile(x_train, [1, 1, 1, 3])\n",
        "\n",
        "#             pos_neg = random.sample(classes, 2)\n",
        "#             positive_samples = random.sample(list(x_test_rgb[y_train == pos_neg[0]]), 2)\n",
        "#             negative_sample = random.choice(list(x_test_rgb[y_train == pos_neg[1]]))\n",
        "\n",
        "#             a.append(positive_samples[0])\n",
        "#             p.append(positive_samples[1])\n",
        "#             n.append(negative_sample)\n",
        "#         yield ([np.array(a), np.array(p), np.array(n)], np.zeros((batch_size, 1)).astype('float32'))\n"
      ]
    },
    {
      "cell_type": "code",
      "execution_count": 4,
      "metadata": {},
      "outputs": [],
      "source": [
        "# Define triplet generator (current batch)\n",
        "\n",
        "def data_generator(batch_size=128):\n",
        "    while True:\n",
        "        a = []\n",
        "        p = []\n",
        "        n = []\n",
        "        for _ in range(batch_size):\n",
        "            # Get a batch of input samples from x_train and y_train\n",
        "            batch_indices = np.random.choice(len(x_train), size=batch_size, replace=False)\n",
        "            batch_images = x_train[batch_indices]\n",
        "            batch_labels = y_train[batch_indices]\n",
        "\n",
        "            # Convert images to RGB\n",
        "            x_batch_rgb = tf.tile(batch_images, [1, 1, 1, 3])\n",
        "\n",
        "            # Generate triplet samples\n",
        "            for i in range(batch_size):\n",
        "                pos_neg = random.sample(classes, 2)\n",
        "                positive_samples = random.sample(list(x_batch_rgb[batch_labels == pos_neg[0]]), 2)\n",
        "                negative_sample = random.choice(list(x_batch_rgb[batch_labels == pos_neg[1]]))\n",
        "\n",
        "                a.append(positive_samples[0])\n",
        "                p.append(positive_samples[1])\n",
        "                n.append(negative_sample)\n",
        "\n",
        "        yield ([np.array(a), np.array(p), np.array(n)], np.zeros((batch_size, 1)).astype('float32'))\n"
      ]
    },
    {
      "cell_type": "code",
      "execution_count": 5,
      "metadata": {},
      "outputs": [],
      "source": [
        "from sklearn.model_selection import StratifiedShuffleSplit\n",
        "\n",
        "# Define triplet generator (stratified)\n",
        "def data_generator(batch_size=100):\n",
        "    while True:\n",
        "        a = []\n",
        "        p = []\n",
        "        n = []\n",
        "\n",
        "        # Perform stratified sampling on the training data\n",
        "        stratified_split = StratifiedShuffleSplit(n_splits=1, test_size=0.5)\n",
        "        _, stratified_indices = next(stratified_split.split(x_train, y_train))\n",
        "\n",
        "        # Get a batch of stratified indices\n",
        "        batch_indices = np.random.choice(stratified_indices, size=batch_size, replace=False)\n",
        "        batch_images = x_train[batch_indices]\n",
        "        batch_labels = y_train[batch_indices]\n",
        "\n",
        "        # Convert images to RGB\n",
        "        x_batch_rgb = tf.tile(batch_images, [1, 1, 1, 3])\n",
        "\n",
        "        # Generate triplet samples\n",
        "        for i in range(batch_size):\n",
        "            pos_neg = random.sample(classes, 2)\n",
        "            positive_samples = random.sample(list(x_batch_rgb[batch_labels == pos_neg[0]]), 2)\n",
        "            negative_sample = random.choice(list(x_batch_rgb[batch_labels == pos_neg[1]]))\n",
        "\n",
        "            a.append(positive_samples[0])\n",
        "            p.append(positive_samples[1])\n",
        "            n.append(negative_sample)\n",
        "\n",
        "        yield ([np.array(a), np.array(p), np.array(n)], np.zeros((batch_size, 1)).astype('float32'))\n"
      ]
    },
    {
      "cell_type": "code",
      "execution_count": 6,
      "metadata": {},
      "outputs": [],
      "source": [
        "from collections import defaultdict\n",
        "\n",
        "# Define triplet generator (at least two examples per class)\n",
        "def data_generator(batch_size=64):\n",
        "    while True:\n",
        "        a = []\n",
        "        p = []\n",
        "        n = []\n",
        "\n",
        "        # Create a dictionary of indices belonging to each class\n",
        "        indices = defaultdict(list)\n",
        "        for index, label in enumerate(y_train):\n",
        "            indices[label].append(index)\n",
        "\n",
        "        # Get a batch of random indices (at least two examples per class)\n",
        "\n",
        "        # garantir que o target apareça no triplet\n",
        "        # amostrar de cada fonte e montar 64 triplets\n",
        "\n",
        "\n",
        "        batch_indices = []\n",
        "        for _ in range(batch_size):\n",
        "            pos_neg = random.sample(classes, 2)\n",
        "            batch_indices.append(random.sample(indices[pos_neg[0]], 1)[0])\n",
        "            batch_indices.append(random.sample(indices[pos_neg[0]], 1)[0])\n",
        "            batch_indices.append(random.sample(indices[pos_neg[1]], 1)[0])\n",
        "\n",
        "        # Get a batch of input samples from x_train and y_train\n",
        "        batch_images = x_train[batch_indices]\n",
        "        batch_labels = y_train[batch_indices]\n",
        "\n",
        "        # Convert images to RGB\n",
        "        if batch_images.shape[-1] != 3:\n",
        "            x_batch_rgb = tf.tile(batch_images, [1, 1, 1, 3])\n",
        "\n",
        "            # Generate triplet samples\n",
        "            for i in range(batch_size):\n",
        "                a.append(x_batch_rgb[i * 3])\n",
        "                p.append(x_batch_rgb[i * 3 + 1])\n",
        "                n.append(x_batch_rgb[i * 3 + 2])\n",
        "\n",
        "        else:\n",
        "            # Generate triplet samples\n",
        "            for i in range(batch_size):\n",
        "                a.append(batch_images[i * 3])\n",
        "                p.append(batch_images[i * 3 + 1])\n",
        "                n.append(batch_images[i * 3 + 2])\n",
        "\n",
        "        yield ([np.array(a), np.array(p), np.array(n)], np.zeros((batch_size, 1)).astype('float32'))\n"
      ]
    },
    {
      "cell_type": "code",
      "execution_count": 7,
      "metadata": {
        "id": "O02XZKAHAUUF"
      },
      "outputs": [
        {
          "name": "stdout",
          "output_type": "stream",
          "text": [
            "Model: \"model\"\n",
            "_________________________________________________________________\n",
            " Layer (type)                Output Shape              Param #   \n",
            "=================================================================\n",
            " input_1 (InputLayer)        [(None, 28, 28, 3)]       0         \n",
            "                                                                 \n",
            " conv2d (Conv2D)             (None, 26, 26, 32)        896       \n",
            "                                                                 \n",
            " max_pooling2d (MaxPooling2D  (None, 13, 13, 32)       0         \n",
            " )                                                               \n",
            "                                                                 \n",
            " conv2d_1 (Conv2D)           (None, 11, 11, 64)        18496     \n",
            "                                                                 \n",
            " max_pooling2d_1 (MaxPooling  (None, 5, 5, 64)         0         \n",
            " 2D)                                                             \n",
            "                                                                 \n",
            " flatten (Flatten)           (None, 1600)              0         \n",
            "                                                                 \n",
            " dense (Dense)               (None, 20)                32020     \n",
            "                                                                 \n",
            "=================================================================\n",
            "Total params: 51,412\n",
            "Trainable params: 51,412\n",
            "Non-trainable params: 0\n",
            "_________________________________________________________________\n"
          ]
        }
      ],
      "source": [
        "def triplet_loss(y_true, y_pred):\n",
        "    anchor_out = y_pred[:, 0:20]\n",
        "    positive_out = y_pred[:, 20:40]\n",
        "    negative_out = y_pred[:, 40:60]\n",
        "\n",
        "    pos_dist = K.sum(K.abs(anchor_out - positive_out), axis=1)\n",
        "    neg_dist = K.sum(K.abs(anchor_out - negative_out), axis=1)\n",
        "\n",
        "    probs = K.softmax([pos_dist, neg_dist], axis=0)\n",
        "\n",
        "    return K.mean(K.abs(probs[0]) + K.abs(1.0 - probs[1]))\n",
        "\n",
        "\n",
        "\n",
        "input_layer = Input((28, 28, 3))\n",
        "X = Conv2D(32, (3, 3), activation=\"relu\")(input_layer)\n",
        "X = MaxPool2D()(X)\n",
        "X = Conv2D(64, (3, 3), activation=\"relu\")(X)\n",
        "X = MaxPool2D()(X)\n",
        "X = Flatten()(X)\n",
        "X = Dense(20, activation=\"relu\")(X)\n",
        "\n",
        "model = Model(input_layer, X)\n",
        "model.summary()\n"
      ]
    },
    {
      "cell_type": "code",
      "execution_count": 8,
      "metadata": {
        "id": "zBi_ZcgtAWsk"
      },
      "outputs": [
        {
          "name": "stdout",
          "output_type": "stream",
          "text": [
            "Model: \"model_1\"\n",
            "__________________________________________________________________________________________________\n",
            " Layer (type)                   Output Shape         Param #     Connected to                     \n",
            "==================================================================================================\n",
            " input_2 (InputLayer)           [(None, 28, 28, 3)]  0           []                               \n",
            "                                                                                                  \n",
            " input_3 (InputLayer)           [(None, 28, 28, 3)]  0           []                               \n",
            "                                                                                                  \n",
            " input_4 (InputLayer)           [(None, 28, 28, 3)]  0           []                               \n",
            "                                                                                                  \n",
            " model (Functional)             (None, 20)           51412       ['input_2[0][0]',                \n",
            "                                                                  'input_3[0][0]',                \n",
            "                                                                  'input_4[0][0]']                \n",
            "                                                                                                  \n",
            " concatenate (Concatenate)      (None, 60)           0           ['model[0][0]',                  \n",
            "                                                                  'model[1][0]',                  \n",
            "                                                                  'model[2][0]']                  \n"
          ]
        },
        {
          "name": "stdout",
          "output_type": "stream",
          "text": [
            "                                                                                                  \n",
            "==================================================================================================\n",
            "Total params: 51,412\n",
            "Trainable params: 51,412\n",
            "Non-trainable params: 0\n",
            "__________________________________________________________________________________________________\n"
          ]
        }
      ],
      "source": [
        "triplet_model_a = Input((28, 28, 3))\n",
        "triplet_model_p = Input((28, 28, 3))\n",
        "triplet_model_n = Input((28, 28, 3))\n",
        "\n",
        "triplet_model_out = Concatenate()([model(triplet_model_a), model(triplet_model_p), model(triplet_model_n)])\n",
        "triplet_model = Model([triplet_model_a, triplet_model_p, triplet_model_n], triplet_model_out)\n",
        "triplet_model.summary()"
      ]
    },
    {
      "cell_type": "code",
      "execution_count": 9,
      "metadata": {
        "id": "pqn6jtVHAady"
      },
      "outputs": [],
      "source": [
        "triplet_model.compile(loss = triplet_loss, optimizer='adam')"
      ]
    },
    {
      "cell_type": "code",
      "execution_count": 10,
      "metadata": {
        "id": "G88wcswRAjzy"
      },
      "outputs": [
        {
          "name": "stdout",
          "output_type": "stream",
          "text": [
            "Epoch 1/10\n",
            "200/200 [==============================] - 57s 223ms/step - loss: 0.1943\n",
            "Epoch 2/10\n",
            "200/200 [==============================] - 44s 220ms/step - loss: 0.0745\n",
            "Epoch 3/10\n",
            "200/200 [==============================] - 44s 220ms/step - loss: 0.0546\n",
            "Epoch 4/10\n",
            "200/200 [==============================] - 45s 223ms/step - loss: 0.0414\n",
            "Epoch 5/10\n",
            "200/200 [==============================] - 45s 223ms/step - loss: 0.0387\n",
            "Epoch 6/10\n",
            "200/200 [==============================] - 44s 222ms/step - loss: 0.0360\n",
            "Epoch 7/10\n",
            "200/200 [==============================] - 44s 218ms/step - loss: 0.0316\n",
            "Epoch 8/10\n",
            "200/200 [==============================] - 44s 220ms/step - loss: 0.0290\n",
            "Epoch 9/10\n",
            "200/200 [==============================] - 45s 224ms/step - loss: 0.0304\n",
            "Epoch 10/10\n",
            "200/200 [==============================] - 44s 222ms/step - loss: 0.0311\n"
          ]
        },
        {
          "data": {
            "text/plain": [
              "<keras.callbacks.History at 0x23a5e845a20>"
            ]
          },
          "execution_count": 10,
          "metadata": {},
          "output_type": "execute_result"
        }
      ],
      "source": [
        "triplet_model.fit(data_generator(), epochs=10, steps_per_epoch=200)"
      ]
    },
    {
      "cell_type": "code",
      "execution_count": 11,
      "metadata": {},
      "outputs": [],
      "source": [
        "x_test = tf.tile(x_test, [1, 1, 1, 3])\n",
        "x_train = tf.tile(x_train, [1, 1, 1, 3])"
      ]
    },
    {
      "cell_type": "code",
      "execution_count": 12,
      "metadata": {
        "id": "jqjVyMLSAkka"
      },
      "outputs": [
        {
          "name": "stdout",
          "output_type": "stream",
          "text": [
            "1875/1875 [==============================] - 5s 2ms/step\n"
          ]
        }
      ],
      "source": [
        "\n",
        "model_embeddings_train = triplet_model.layers[3].predict(x_train)"
      ]
    },
    {
      "cell_type": "code",
      "execution_count": 13,
      "metadata": {},
      "outputs": [
        {
          "data": {
            "text/plain": [
              "(60000, 20)"
            ]
          },
          "execution_count": 13,
          "metadata": {},
          "output_type": "execute_result"
        }
      ],
      "source": [
        "model_embeddings_train.shape"
      ]
    },
    {
      "cell_type": "code",
      "execution_count": 14,
      "metadata": {},
      "outputs": [
        {
          "name": "stdout",
          "output_type": "stream",
          "text": [
            "313/313 [==============================] - 1s 3ms/step\n"
          ]
        }
      ],
      "source": [
        "model_embeddings_test =  triplet_model.layers[3].predict(x_test)"
      ]
    },
    {
      "cell_type": "code",
      "execution_count": 15,
      "metadata": {},
      "outputs": [
        {
          "data": {
            "text/plain": [
              "(10000, 20)"
            ]
          },
          "execution_count": 15,
          "metadata": {},
          "output_type": "execute_result"
        }
      ],
      "source": [
        "model_embeddings_test.shape"
      ]
    },
    {
      "cell_type": "code",
      "execution_count": 16,
      "metadata": {},
      "outputs": [
        {
          "name": "stdout",
          "output_type": "stream",
          "text": [
            "(60000, 2)\n"
          ]
        }
      ],
      "source": [
        "reduced_embeddings_train = umap.UMAP(n_neighbors=15, min_dist=0.3, metric='correlation').fit_transform(model_embeddings_train)\n",
        "print(reduced_embeddings_train.shape)"
      ]
    },
    {
      "cell_type": "code",
      "execution_count": 17,
      "metadata": {
        "id": "JVoyR3dWxDs8"
      },
      "outputs": [
        {
          "name": "stdout",
          "output_type": "stream",
          "text": [
            "(10000, 2)\n"
          ]
        }
      ],
      "source": [
        "reduced_embeddings_test = umap.UMAP(n_neighbors=15, min_dist=0.3, metric='correlation').fit_transform(model_embeddings_test)\n",
        "print(reduced_embeddings_test.shape)"
      ]
    },
    {
      "cell_type": "code",
      "execution_count": 18,
      "metadata": {
        "id": "UoIdWfNXxMFI"
      },
      "outputs": [],
      "source": [
        "import matplotlib.pyplot as plt"
      ]
    },
    {
      "attachments": {},
      "cell_type": "markdown",
      "metadata": {},
      "source": [
        "train"
      ]
    },
    {
      "cell_type": "code",
      "execution_count": 19,
      "metadata": {
        "id": "eFsx66dSw-b-"
      },
      "outputs": [
        {
          "data": {
            "text/plain": [
              "<matplotlib.colorbar.Colorbar at 0x23a7701c400>"
            ]
          },
          "execution_count": 19,
          "metadata": {},
          "output_type": "execute_result"
        },
        {
          "data": {
            "image/png": "[encoded data removed]",
            "text/plain": [
              "<Figure size 640x480 with 2 Axes>"
            ]
          },
          "metadata": {},
          "output_type": "display_data"
        }
      ],
      "source": [
        "plt.scatter(reduced_embeddings_train[:, 0], reduced_embeddings_train[:,1], c=y_train)\n",
        "plt.colorbar()"
      ]
    },
    {
      "attachments": {},
      "cell_type": "markdown",
      "metadata": {},
      "source": [
        "test"
      ]
    },
    {
      "cell_type": "code",
      "execution_count": 20,
      "metadata": {},
      "outputs": [
        {
          "data": {
            "text/plain": [
              "<matplotlib.colorbar.Colorbar at 0x23a781a0610>"
            ]
          },
          "execution_count": 20,
          "metadata": {},
          "output_type": "execute_result"
        },
        {
          "data": {
            "image/png": "[encoded data removed]",
            "text/plain": [
              "<Figure size 640x480 with 2 Axes>"
            ]
          },
          "metadata": {},
          "output_type": "display_data"
        }
      ],
      "source": [
        "plt.scatter(reduced_embeddings_test[:, 0], reduced_embeddings_test[:,1], c=y_test)\n",
        "plt.colorbar()"
      ]
    },
    {
      "attachments": {},
      "cell_type": "markdown",
      "metadata": {},
      "source": [
        "# Classificador\n",
        " tentar knn - regularizacao - pca"
      ]
    },
    {
      "cell_type": "code",
      "execution_count": 59,
      "metadata": {
        "id": "jziCjY6Gwe8z"
      },
      "outputs": [
        {
          "name": "stderr",
          "output_type": "stream",
          "text": [
            "c:\\Users\\levy\\miniconda3\\envs\\keras\\lib\\site-packages\\sklearn\\linear_model\\_logistic.py:458: ConvergenceWarning: lbfgs failed to converge (status=1):\n",
            "STOP: TOTAL NO. of ITERATIONS REACHED LIMIT.\n",
            "\n",
            "Increase the number of iterations (max_iter) or scale the data as shown in:\n",
            "    https://scikit-learn.org/stable/modules/preprocessing.html\n",
            "Please also refer to the documentation for alternative solver options:\n",
            "    https://scikit-learn.org/stable/modules/linear_model.html#logistic-regression\n",
            "  n_iter_i = _check_optimize_result(\n"
          ]
        },
        {
          "name": "stdout",
          "output_type": "stream",
          "text": [
            "0.9998666666666667\n",
            "0.9521166666666666\n"
          ]
        }
      ],
      "source": [
        "from sklearn.ensemble import RandomForestClassifier\n",
        "from sklearn.linear_model import LogisticRegression\n",
        "\n",
        "\n",
        "rf = RandomForestClassifier(n_estimators=50)\n",
        "lr = LogisticRegression()\n",
        "\n",
        "rf.fit(model_embeddings_train, y_train)\n",
        "lr.fit(model_embeddings_train, y_train)\n",
        "\n",
        "print(rf.score(model_embeddings_train, y_train))\n",
        "print(lr.score(model_embeddings_train, y_train))"
      ]
    },
    {
      "cell_type": "code",
      "execution_count": 69,
      "metadata": {},
      "outputs": [
        {
          "name": "stdout",
          "output_type": "stream",
          "text": [
            "0.9645\n",
            "0.9597\n"
          ]
        }
      ],
      "source": [
        "from sklearn.metrics import accuracy_score\n",
        "\n",
        "print(accuracy_score(y_test, rf.predict(model_embeddings_test)))\n",
        "print(accuracy_score(y_test, lr.predict(model_embeddings_test)))"
      ]
    },
    {
      "cell_type": "code",
      "execution_count": 70,
      "metadata": {},
      "outputs": [
        {
          "name": "stdout",
          "output_type": "stream",
          "text": [
            "0.16319444444444445\n",
            "0.2465277777777778\n"
          ]
        }
      ],
      "source": [
        "from sklearn.metrics import accuracy_score\n",
        "\n",
        "print(accuracy_score(y_train_m, rf.predict(model_embeddings_train_m)))\n",
        "print(accuracy_score(y_train_m, lr.predict(model_embeddings_train_m)))"
      ]
    },
    {
      "attachments": {},
      "cell_type": "markdown",
      "metadata": {},
      "source": [
        "juntar as imagens do mnist e mnist m na mesma classe"
      ]
    },
    {
      "cell_type": "code",
      "execution_count": 7,
      "metadata": {},
      "outputs": [],
      "source": [
        "# juntar as imagens do mnist e mnistm na mesma classe\n",
        "\n",
        "# Path: mnistm.py\n",
        "import os\n",
        "import numpy as np\n",
        "from PIL import Image\n",
        "from tensorflow.keras.datasets import mnist\n",
        "from tensorflow.keras.preprocessing.image import ImageDataGenerator\n",
        "from tensorflow.keras.utils import to_categorical\n",
        "from sklearn.model_selection import train_test_split\n",
        "\n",
        "# each folder contains images of a specific digit\n",
        "# root folder \"/mnistm_labels\"\n",
        "def load_mnistm():\n",
        "    root = \"mnistm_labels\"\n",
        "    folders = os.listdir(root)\n",
        "    images = []\n",
        "    labels = []\n",
        "    for folder in folders:\n",
        "        for image_path in os.listdir(os.path.join(root, folder)):\n",
        "            image = Image.open(os.path.join(root, folder, image_path))\n",
        "            image = np.array(image)\n",
        "            images.append(image)\n",
        "            labels.append(int(folder))\n",
        "    images = np.array(images)\n",
        "    labels = np.array(labels)\n",
        "    return images, labels\n",
        "\n",
        "# load mnistm dataset\n"
      ]
    },
    {
      "cell_type": "code",
      "execution_count": 8,
      "metadata": {},
      "outputs": [],
      "source": [
        "\n",
        "x_train_m, y_train_m = load_mnistm()\n"
      ]
    },
    {
      "cell_type": "code",
      "execution_count": 9,
      "metadata": {},
      "outputs": [
        {
          "data": {
            "text/plain": [
              "(288, 28, 28, 3)"
            ]
          },
          "execution_count": 9,
          "metadata": {},
          "output_type": "execute_result"
        }
      ],
      "source": [
        "x_train_m.shape"
      ]
    },
    {
      "cell_type": "code",
      "execution_count": 10,
      "metadata": {},
      "outputs": [
        {
          "data": {
            "text/plain": [
              "TensorShape([60000, 28, 28, 3])"
            ]
          },
          "execution_count": 10,
          "metadata": {},
          "output_type": "execute_result"
        }
      ],
      "source": [
        "x_train.shape"
      ]
    },
    {
      "cell_type": "code",
      "execution_count": 12,
      "metadata": {},
      "outputs": [
        {
          "data": {
            "text/plain": [
              "(288, 28, 28, 3)"
            ]
          },
          "execution_count": 12,
          "metadata": {},
          "output_type": "execute_result"
        }
      ],
      "source": [
        "x_train_m.shape"
      ]
    },
    {
      "cell_type": "code",
      "execution_count": 13,
      "metadata": {},
      "outputs": [
        {
          "data": {
            "text/plain": [
              "<matplotlib.colorbar.Colorbar at 0x161a9e1aa40>"
            ]
          },
          "execution_count": 13,
          "metadata": {},
          "output_type": "execute_result"
        },
        {
          "data": {
            "image/png": "[encoded data removed]",
            "text/plain": [
              "<Figure size 640x480 with 2 Axes>"
            ]
          },
          "metadata": {},
          "output_type": "display_data"
        }
      ],
      "source": [
        "plt.imshow(x_train_m[40].mean(axis=-1))\n",
        "plt.colorbar()"
      ]
    },
    {
      "cell_type": "code",
      "execution_count": 14,
      "metadata": {},
      "outputs": [
        {
          "data": {
            "text/plain": [
              "((288, 28, 28, 3), (288,))"
            ]
          },
          "execution_count": 14,
          "metadata": {},
          "output_type": "execute_result"
        }
      ],
      "source": [
        "x_train_m.shape, y_train_m.shape"
      ]
    },
    {
      "cell_type": "code",
      "execution_count": 28,
      "metadata": {},
      "outputs": [
        {
          "data": {
            "text/plain": [
              "(60288, 28, 28, 3)"
            ]
          },
          "metadata": {},
          "output_type": "display_data"
        },
        {
          "data": {
            "text/plain": [
              "(60288,)"
            ]
          },
          "metadata": {},
          "output_type": "display_data"
        }
      ],
      "source": [
        "all_images = np.concatenate([x_train, x_train_m], axis=0)\n",
        "display(all_images.shape)\n",
        "\n",
        "all_labels = np.concatenate([y_train, y_train_m], axis=0)\n",
        "\n",
        "display(all_labels.shape)"
      ]
    },
    {
      "cell_type": "code",
      "execution_count": 98,
      "metadata": {},
      "outputs": [
        {
          "data": {
            "text/plain": [
              "(60288, 28, 28, 3)"
            ]
          },
          "execution_count": 98,
          "metadata": {},
          "output_type": "execute_result"
        }
      ],
      "source": [
        "all_images.shape"
      ]
    },
    {
      "attachments": {},
      "cell_type": "markdown",
      "metadata": {},
      "source": [
        "# retreinar o modelo usando as novas imagens\n",
        "\n",
        "garantir que o modelo vai ler o mnist modificado"
      ]
    },
    {
      "cell_type": "code",
      "execution_count": 79,
      "metadata": {},
      "outputs": [
        {
          "name": "stdout",
          "output_type": "stream",
          "text": [
            "Epoch 1/5\n",
            "150/150 [==============================] - 4s 23ms/step - loss: 0.8948\n",
            "Epoch 2/5\n",
            "150/150 [==============================] - 4s 25ms/step - loss: 0.9002\n",
            "Epoch 3/5\n",
            "150/150 [==============================] - 4s 25ms/step - loss: 0.9149\n",
            "Epoch 4/5\n",
            "150/150 [==============================] - 4s 24ms/step - loss: 0.8844\n",
            "Epoch 5/5\n",
            "150/150 [==============================] - 3s 23ms/step - loss: 0.9096\n"
          ]
        },
        {
          "data": {
            "text/plain": [
              "<keras.callbacks.History at 0x165db16d9f0>"
            ]
          },
          "execution_count": 79,
          "metadata": {},
          "output_type": "execute_result"
        }
      ],
      "source": [
        "# x_train = all_images\n",
        "# y_train = all_labels\n",
        "from collections import defaultdict\n",
        "\n",
        "# Define triplet generator (at least two examples per class)\n",
        "def data_generator(batch_size=64):\n",
        "    while True:\n",
        "        a = []\n",
        "        p = []\n",
        "        n = []\n",
        "\n",
        "        # Create a dictionary of indices belonging to each class in the original MNIST dataset\n",
        "        indices = defaultdict(list)\n",
        "        for index, label in enumerate(y_train):\n",
        "            indices[label].append(index)\n",
        "\n",
        "        # Create a dictionary of indices belonging to each class in the modified MNIST dataset\n",
        "        indices_modified = defaultdict(list)\n",
        "        for index, label in enumerate(y_train_m):\n",
        "            indices_modified[label].append(index)\n",
        "\n",
        "        # Get a batch of random indices (at least two examples per class)\n",
        "        batch_indices = []\n",
        "        batch_indices_p = []\n",
        "        batch_indices_n = []\n",
        "        for _ in range(batch_size):\n",
        "            pos_neg = random.sample(list(indices_modified.keys()), 2)\n",
        "            anchor_index = random.sample(indices_modified[pos_neg[0]], 1)[0]\n",
        "            positive_index = random.sample(indices_modified[pos_neg[0]], 1)[0]\n",
        "            negative_index = random.sample(indices_modified[pos_neg[1]], 1)[0]\n",
        "            batch_indices.append(anchor_index)\n",
        "            batch_indices_p.append(positive_index)\n",
        "            batch_indices_n.append(negative_index)\n",
        "\n",
        "        # Get a batch of input samples from x_train and x_train_m\n",
        "        batch_images_anchor = np.array([x_train_m[idx] for idx in batch_indices])\n",
        "        batch_images_positive = np.array([x_train_m[idx] for idx in batch_indices_p])\n",
        "        batch_images_negative = np.array([x_train_m[idx] for idx in batch_indices_n])\n",
        "\n",
        "\n",
        "        for i in range(batch_size):\n",
        "            # Get anchor image\n",
        "            anchor_image = batch_images_anchor[i]\n",
        "            # Get positive image\n",
        "            pos_image = batch_images_positive[i]\n",
        "            # Get negative image\n",
        "            neg_image = batch_images_negative[i]\n",
        "\n",
        "            # Append samples to their respective lists\n",
        "            a.append(anchor_image)\n",
        "            p.append(pos_image)\n",
        "            n.append(neg_image)\n",
        "\n",
        "        yield ([np.array(a), np.array(p), np.array(n)], np.zeros((batch_size, 1)).astype('float32'))\n",
        "\n",
        "\n",
        "\n",
        "triplet_model.fit(data_generator(), epochs=5, steps_per_epoch=150)"
      ]
    },
    {
      "cell_type": "code",
      "execution_count": 80,
      "metadata": {},
      "outputs": [],
      "source": [
        "from collections import defaultdict\n",
        "\n",
        "# Define triplet generator (at least two examples per class)\n",
        "def data_generator(batch_size=64):\n",
        "    while True:\n",
        "        a = []\n",
        "        p = []\n",
        "        n = []\n",
        "\n",
        "        # Create a dictionary of indices belonging to each class\n",
        "        indices = defaultdict(list)\n",
        "        for index, label in enumerate(y_train):\n",
        "            indices[label].append(index)\n",
        "\n",
        "        # Get a batch of random indices (at least two examples per class)\n",
        "\n",
        "        # garantir que o target apareça no triplet\n",
        "        # amostrar de cada fonte e montar 64 triplets\n",
        "\n",
        "\n",
        "        batch_indices = []\n",
        "        for _ in range(batch_size):\n",
        "            pos_neg = random.sample(classes, 2)\n",
        "            batch_indices.append(random.sample(indices[pos_neg[0]], 1)[0])\n",
        "            batch_indices.append(random.sample(indices[pos_neg[0]], 1)[0])\n",
        "            batch_indices.append(random.sample(indices[pos_neg[1]], 1)[0])\n",
        "\n",
        "        # Get a batch of input samples from x_train and y_train\n",
        "        batch_images = all_images[batch_indices]\n",
        "\n",
        " \n",
        "        for i in range(batch_size):\n",
        "            a.append(batch_images[i * 3])\n",
        "            p.append(batch_images[i * 3 + 1])\n",
        "            n.append(batch_images[i * 3 + 2])\n",
        "\n",
        "        yield ([np.array(a), np.array(p), np.array(n)], np.zeros((batch_size, 1)).astype('float32'))\n"
      ]
    },
    {
      "cell_type": "code",
      "execution_count": 75,
      "metadata": {},
      "outputs": [
        {
          "ename": "IndexError",
          "evalue": "index 33066 is out of bounds for axis 0 with size 288",
          "output_type": "error",
          "traceback": [
            "\u001b[1;31m---------------------------------------------------------------------------\u001b[0m",
            "\u001b[1;31mIndexError\u001b[0m                                Traceback (most recent call last)",
            "\u001b[1;32m~\\AppData\\Local\\Temp\\ipykernel_16620\\954887811.py\u001b[0m in \u001b[0;36m<cell line: 1>\u001b[1;34m()\u001b[0m\n\u001b[1;32m----> 1\u001b[1;33m \u001b[0mtriplet_model\u001b[0m\u001b[1;33m.\u001b[0m\u001b[0mfit\u001b[0m\u001b[1;33m(\u001b[0m\u001b[0mdata_generator\u001b[0m\u001b[1;33m(\u001b[0m\u001b[1;33m)\u001b[0m\u001b[1;33m,\u001b[0m \u001b[0mepochs\u001b[0m\u001b[1;33m=\u001b[0m\u001b[1;36m5\u001b[0m\u001b[1;33m,\u001b[0m \u001b[0msteps_per_epoch\u001b[0m\u001b[1;33m=\u001b[0m\u001b[1;36m150\u001b[0m\u001b[1;33m)\u001b[0m\u001b[1;33m\u001b[0m\u001b[1;33m\u001b[0m\u001b[0m\n\u001b[0m",
            "\u001b[1;32mc:\\Users\\levy\\miniconda3\\envs\\keras\\lib\\site-packages\\keras\\utils\\traceback_utils.py\u001b[0m in \u001b[0;36merror_handler\u001b[1;34m(*args, **kwargs)\u001b[0m\n\u001b[0;32m     68\u001b[0m             \u001b[1;31m# To get the full stack trace, call:\u001b[0m\u001b[1;33m\u001b[0m\u001b[1;33m\u001b[0m\u001b[0m\n\u001b[0;32m     69\u001b[0m             \u001b[1;31m# `tf.debugging.disable_traceback_filtering()`\u001b[0m\u001b[1;33m\u001b[0m\u001b[1;33m\u001b[0m\u001b[0m\n\u001b[1;32m---> 70\u001b[1;33m             \u001b[1;32mraise\u001b[0m \u001b[0me\u001b[0m\u001b[1;33m.\u001b[0m\u001b[0mwith_traceback\u001b[0m\u001b[1;33m(\u001b[0m\u001b[0mfiltered_tb\u001b[0m\u001b[1;33m)\u001b[0m \u001b[1;32mfrom\u001b[0m \u001b[1;32mNone\u001b[0m\u001b[1;33m\u001b[0m\u001b[1;33m\u001b[0m\u001b[0m\n\u001b[0m\u001b[0;32m     71\u001b[0m         \u001b[1;32mfinally\u001b[0m\u001b[1;33m:\u001b[0m\u001b[1;33m\u001b[0m\u001b[1;33m\u001b[0m\u001b[0m\n\u001b[0;32m     72\u001b[0m             \u001b[1;32mdel\u001b[0m \u001b[0mfiltered_tb\u001b[0m\u001b[1;33m\u001b[0m\u001b[1;33m\u001b[0m\u001b[0m\n",
            "\u001b[1;32m~\\AppData\\Local\\Temp\\ipykernel_16620\\2969730583.py\u001b[0m in \u001b[0;36mdata_generator\u001b[1;34m(batch_size)\u001b[0m\n\u001b[0;32m     34\u001b[0m \u001b[1;33m\u001b[0m\u001b[0m\n\u001b[0;32m     35\u001b[0m         \u001b[1;31m# Get a batch of input samples from x_train and x_train_m\u001b[0m\u001b[1;33m\u001b[0m\u001b[1;33m\u001b[0m\u001b[0m\n\u001b[1;32m---> 36\u001b[1;33m         \u001b[0mbatch_images_anchor\u001b[0m \u001b[1;33m=\u001b[0m \u001b[0mnp\u001b[0m\u001b[1;33m.\u001b[0m\u001b[0marray\u001b[0m\u001b[1;33m(\u001b[0m\u001b[1;33m[\u001b[0m\u001b[0mx_train_m\u001b[0m\u001b[1;33m[\u001b[0m\u001b[0midx\u001b[0m\u001b[1;33m]\u001b[0m \u001b[1;32mfor\u001b[0m \u001b[0midx\u001b[0m \u001b[1;32min\u001b[0m \u001b[0mbatch_indices\u001b[0m\u001b[1;33m]\u001b[0m\u001b[1;33m)\u001b[0m\u001b[1;33m\u001b[0m\u001b[1;33m\u001b[0m\u001b[0m\n\u001b[0m\u001b[0;32m     37\u001b[0m         \u001b[0mbatch_images_positive\u001b[0m \u001b[1;33m=\u001b[0m \u001b[0mnp\u001b[0m\u001b[1;33m.\u001b[0m\u001b[0marray\u001b[0m\u001b[1;33m(\u001b[0m\u001b[1;33m[\u001b[0m\u001b[0mx_train_m\u001b[0m\u001b[1;33m[\u001b[0m\u001b[0midx\u001b[0m\u001b[1;33m]\u001b[0m \u001b[1;32mfor\u001b[0m \u001b[0midx\u001b[0m \u001b[1;32min\u001b[0m \u001b[0mbatch_indices_p\u001b[0m\u001b[1;33m]\u001b[0m\u001b[1;33m)\u001b[0m\u001b[1;33m\u001b[0m\u001b[1;33m\u001b[0m\u001b[0m\n\u001b[0;32m     38\u001b[0m         \u001b[0mbatch_images_negative\u001b[0m \u001b[1;33m=\u001b[0m \u001b[0mnp\u001b[0m\u001b[1;33m.\u001b[0m\u001b[0marray\u001b[0m\u001b[1;33m(\u001b[0m\u001b[1;33m[\u001b[0m\u001b[0mx_train\u001b[0m\u001b[1;33m[\u001b[0m\u001b[0midx\u001b[0m\u001b[1;33m]\u001b[0m \u001b[1;32mfor\u001b[0m \u001b[0midx\u001b[0m \u001b[1;32min\u001b[0m \u001b[0mbatch_indices_n\u001b[0m\u001b[1;33m]\u001b[0m\u001b[1;33m)\u001b[0m\u001b[1;33m\u001b[0m\u001b[1;33m\u001b[0m\u001b[0m\n",
            "\u001b[1;32m~\\AppData\\Local\\Temp\\ipykernel_16620\\2969730583.py\u001b[0m in \u001b[0;36m<listcomp>\u001b[1;34m(.0)\u001b[0m\n\u001b[0;32m     34\u001b[0m \u001b[1;33m\u001b[0m\u001b[0m\n\u001b[0;32m     35\u001b[0m         \u001b[1;31m# Get a batch of input samples from x_train and x_train_m\u001b[0m\u001b[1;33m\u001b[0m\u001b[1;33m\u001b[0m\u001b[0m\n\u001b[1;32m---> 36\u001b[1;33m         \u001b[0mbatch_images_anchor\u001b[0m \u001b[1;33m=\u001b[0m \u001b[0mnp\u001b[0m\u001b[1;33m.\u001b[0m\u001b[0marray\u001b[0m\u001b[1;33m(\u001b[0m\u001b[1;33m[\u001b[0m\u001b[0mx_train_m\u001b[0m\u001b[1;33m[\u001b[0m\u001b[0midx\u001b[0m\u001b[1;33m]\u001b[0m \u001b[1;32mfor\u001b[0m \u001b[0midx\u001b[0m \u001b[1;32min\u001b[0m \u001b[0mbatch_indices\u001b[0m\u001b[1;33m]\u001b[0m\u001b[1;33m)\u001b[0m\u001b[1;33m\u001b[0m\u001b[1;33m\u001b[0m\u001b[0m\n\u001b[0m\u001b[0;32m     37\u001b[0m         \u001b[0mbatch_images_positive\u001b[0m \u001b[1;33m=\u001b[0m \u001b[0mnp\u001b[0m\u001b[1;33m.\u001b[0m\u001b[0marray\u001b[0m\u001b[1;33m(\u001b[0m\u001b[1;33m[\u001b[0m\u001b[0mx_train_m\u001b[0m\u001b[1;33m[\u001b[0m\u001b[0midx\u001b[0m\u001b[1;33m]\u001b[0m \u001b[1;32mfor\u001b[0m \u001b[0midx\u001b[0m \u001b[1;32min\u001b[0m \u001b[0mbatch_indices_p\u001b[0m\u001b[1;33m]\u001b[0m\u001b[1;33m)\u001b[0m\u001b[1;33m\u001b[0m\u001b[1;33m\u001b[0m\u001b[0m\n\u001b[0;32m     38\u001b[0m         \u001b[0mbatch_images_negative\u001b[0m \u001b[1;33m=\u001b[0m \u001b[0mnp\u001b[0m\u001b[1;33m.\u001b[0m\u001b[0marray\u001b[0m\u001b[1;33m(\u001b[0m\u001b[1;33m[\u001b[0m\u001b[0mx_train\u001b[0m\u001b[1;33m[\u001b[0m\u001b[0midx\u001b[0m\u001b[1;33m]\u001b[0m \u001b[1;32mfor\u001b[0m \u001b[0midx\u001b[0m \u001b[1;32min\u001b[0m \u001b[0mbatch_indices_n\u001b[0m\u001b[1;33m]\u001b[0m\u001b[1;33m)\u001b[0m\u001b[1;33m\u001b[0m\u001b[1;33m\u001b[0m\u001b[0m\n",
            "\u001b[1;31mIndexError\u001b[0m: index 33066 is out of bounds for axis 0 with size 288"
          ]
        }
      ],
      "source": [
        "triplet_model.fit(data_generator(), epochs=5, steps_per_epoch=150)"
      ]
    },
    {
      "cell_type": "code",
      "execution_count": 65,
      "metadata": {},
      "outputs": [
        {
          "name": "stdout",
          "output_type": "stream",
          "text": [
            "9/9 [==============================] - 0s 3ms/step\n"
          ]
        }
      ],
      "source": [
        "model_embeddings_train_m = triplet_model.layers[3].predict(x_train_m)"
      ]
    },
    {
      "cell_type": "code",
      "execution_count": 66,
      "metadata": {},
      "outputs": [
        {
          "data": {
            "text/plain": [
              "(288, 20)"
            ]
          },
          "execution_count": 66,
          "metadata": {},
          "output_type": "execute_result"
        }
      ],
      "source": [
        "model_embeddings_train_m.shape"
      ]
    },
    {
      "cell_type": "code",
      "execution_count": 31,
      "metadata": {},
      "outputs": [
        {
          "name": "stdout",
          "output_type": "stream",
          "text": [
            "(288, 2)\n"
          ]
        }
      ],
      "source": [
        "reduced_embeddings_train_m = umap.UMAP(n_neighbors=15, min_dist=0.3, metric='correlation').fit_transform(model_embeddings_train_m)\n",
        "print(reduced_embeddings_train_m.shape)"
      ]
    },
    {
      "cell_type": "code",
      "execution_count": 34,
      "metadata": {},
      "outputs": [
        {
          "data": {
            "text/plain": [
              "<matplotlib.colorbar.Colorbar at 0x165d8a91030>"
            ]
          },
          "execution_count": 34,
          "metadata": {},
          "output_type": "execute_result"
        },
        {
          "data": {
            "image/png": "[encoded data removed]",
            "text/plain": [
              "<Figure size 640x480 with 2 Axes>"
            ]
          },
          "metadata": {},
          "output_type": "display_data"
        }
      ],
      "source": [
        "plt.scatter(reduced_embeddings_train_m[:, 0], reduced_embeddings_train_m[:,1], c=y_train_m, cmap='Spectral', s=5)\n",
        "plt.colorbar()"
      ]
    },
    {
      "cell_type": "code",
      "execution_count": null,
      "metadata": {},
      "outputs": [],
      "source": [
        "# get the error from the target domain (x_train_m, y_train_m)\n",
        "\n",
        "\n"
      ]
    }
  ],
  "metadata": {
    "accelerator": "GPU",
    "colab": {
      "provenance": []
    },
    "kernelspec": {
      "display_name": "Python 3",
      "name": "python3"
    },
    "language_info": {
      "codemirror_mode": {
        "name": "ipython",
        "version": 3
      },
      "file_extension": ".py",
      "mimetype": "text/x-python",
      "name": "python",
      "nbconvert_exporter": "python",
      "pygments_lexer": "ipython3",
      "version": "3.10.9"
    }
  },
  "nbformat": 4,
  "nbformat_minor": 0
}
